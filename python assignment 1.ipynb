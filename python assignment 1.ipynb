{
 "cells": [
  {
   "cell_type": "markdown",
   "metadata": {},
   "source": [
    "# Python Assignment_1 "
   ]
  },
  {
   "cell_type": "markdown",
   "metadata": {},
   "source": [
    "1. Write a program which will find all such numbers which are divisible by 7 but are not a multiple\n",
    "of 5, between 1000 and 2200 (both included). The numbers obtained should be printed in a\n",
    "comma-separated sequence on a single line.\n",
    "2. Write a Python program to accept the user's first and last name and then getting them printed\n",
    "in the reverse order with a space between first name and last name.\n",
    "3. Write a program to take ten numbers from a user and display the minimum, mean, and\n",
    "maximum of the non-even numbers."
   ]
  },
  {
   "cell_type": "code",
   "execution_count": 3,
   "metadata": {},
   "outputs": [
    {
     "name": "stdout",
     "output_type": "stream",
     "text": [
      "[1001, 1008, 1022, 1029, 1036, 1043, 1057, 1064, 1071, 1078, 1092, 1099, 1106, 1113, 1127, 1134, 1141, 1148, 1162, 1169, 1176, 1183, 1197, 1204, 1211, 1218, 1232, 1239, 1246, 1253, 1267, 1274, 1281, 1288, 1302, 1309, 1316, 1323, 1337, 1344, 1351, 1358, 1372, 1379, 1386, 1393, 1407, 1414, 1421, 1428, 1442, 1449, 1456, 1463, 1477, 1484, 1491, 1498, 1512, 1519, 1526, 1533, 1547, 1554, 1561, 1568, 1582, 1589, 1596, 1603, 1617, 1624, 1631, 1638, 1652, 1659, 1666, 1673, 1687, 1694, 1701, 1708, 1722, 1729, 1736, 1743, 1757, 1764, 1771, 1778, 1792, 1799, 1806, 1813, 1827, 1834, 1841, 1848, 1862, 1869, 1876, 1883, 1897, 1904, 1911, 1918, 1932, 1939, 1946, 1953, 1967, 1974, 1981, 1988, 2002, 2009, 2016, 2023, 2037, 2044, 2051, 2058, 2072, 2079, 2086, 2093, 2107, 2114, 2121, 2128, 2142, 2149, 2156, 2163, 2177, 2184, 2191, 2198]\n"
     ]
    }
   ],
   "source": [
    "# 1. Write a program which will find all such numbers which are divisible by 7 but are not a multiple\n",
    "# of 5, between 1000 and 2200 (both included). The numbers obtained should be printed in a\n",
    "# comma-separated sequence on a single line.\n",
    "numbers = []\n",
    "for i in range(1000,2201):\n",
    "    if i%7==0 and i%5!=0:\n",
    "        numbers.append(i)\n",
    "print(list(numbers))"
   ]
  },
  {
   "cell_type": "code",
   "execution_count": 14,
   "metadata": {},
   "outputs": [
    {
     "name": "stdout",
     "output_type": "stream",
     "text": [
      "What's is your first name korede\n",
      "What's is your last name oladetohun\n",
      "ederok nuhotedalo\n"
     ]
    }
   ],
   "source": [
    "# 2. Write a Python program to accept the user's first and last name and then getting them printed\n",
    "# in the reverse order with a space between first name and last name.\n",
    "first_name = str(input(\"What's is your first name \"))\n",
    "last_name = str(input(\"What's is your last name \"))\n",
    "result = first_name[::-1] +\" \"+ last_name[::-1]\n",
    "print((result))"
   ]
  },
  {
   "cell_type": "code",
   "execution_count": 24,
   "metadata": {},
   "outputs": [
    {
     "name": "stdout",
     "output_type": "stream",
     "text": [
      "type any ten digit numbers: 1\n",
      "type any ten digit numbers: 2\n",
      "type any ten digit numbers: 3\n",
      "type any ten digit numbers: 4\n",
      "type any ten digit numbers: 5\n",
      "type any ten digit numbers: 6\n",
      "type any ten digit numbers: 6\n",
      "type any ten digit numbers: 6\n",
      "type any ten digit numbers: 6\n",
      "type any ten digit numbers: 6\n",
      "1 6 4.5\n"
     ]
    }
   ],
   "source": [
    "# 3. Write a program to take ten numbers from a user and display the minimum, mean, and\n",
    "# maximum of the non-even numbers.\n",
    "numbers=[]\n",
    "for i in range(10):\n",
    "    nbers = int(input(\"type any ten digit numbers: \"))\n",
    "    numbers.append(nbers)\n",
    "min_term=min(numbers)\n",
    "max_term=max(numbers)\n",
    "mean=sum(numbers)/10\n",
    "print(min_term,max_term,mean)    "
   ]
  },
  {
   "cell_type": "markdown",
   "metadata": {},
   "source": []
  }
 ],
 "metadata": {
  "kernelspec": {
   "display_name": "Python 3",
   "language": "python",
   "name": "python3"
  },
  "language_info": {
   "codemirror_mode": {
    "name": "ipython",
    "version": 3
   },
   "file_extension": ".py",
   "mimetype": "text/x-python",
   "name": "python",
   "nbconvert_exporter": "python",
   "pygments_lexer": "ipython3",
   "version": "3.8.5"
  }
 },
 "nbformat": 4,
 "nbformat_minor": 4
}
